{
 "cells": [
  {
   "cell_type": "markdown",
   "metadata": {
    "slideshow": {
     "slide_type": "slide"
    }
   },
   "source": [
    "A few things I learnt at: \n",
    "<br><br><br>\n",
    "<div class=\"imgODSC\" >\n",
    "    <img src=\"images/odsc-300x71.png/\" />\n",
    "</div>"
   ]
  },
  {
   "cell_type": "markdown",
   "metadata": {
    "slideshow": {
     "slide_type": "fragment"
    }
   },
   "source": [
    "### Open Data Science Conference"
   ]
  },
  {
   "cell_type": "markdown",
   "metadata": {
    "slideshow": {
     "slide_type": "fragment"
    }
   },
   "source": [
    "###  ODSC - WEST - 2015  \n",
    "<div class=\"odscsubs\" ></div>"
   ]
  },
  {
   "cell_type": "markdown",
   "metadata": {
    "slideshow": {
     "slide_type": "slide"
    }
   },
   "source": [
    "## why it's called \"The Bay\" area"
   ]
  },
  {
   "cell_type": "markdown",
   "metadata": {
    "slideshow": {
     "slide_type": "fragment"
    }
   },
   "source": [
    " <p>what I remembered</p>\n",
    " <div class=\"imgContainer1\" >\n",
    " <img src=\"images/traffic.jpg\" >\n",
    " </div>"
   ]
  },
  {
   "cell_type": "markdown",
   "metadata": {
    "slideshow": {
     "slide_type": "fragment"
    }
   },
   "source": [
    "<div class=\"imgContainer2\" >\n",
    "    <p>but this time:</p>\n",
    "    <img src=\"images/hotelview1.jpg\"  />\n",
    "</div>\n",
    "<div class=\"imgContainer2\" >\n",
    "    <p>&nbsp;</p>\n",
    "    <img src=\"images/hotelview2.jpg/\" />\n",
    "</div>"
   ]
  },
  {
   "cell_type": "markdown",
   "metadata": {
    "slideshow": {
     "slide_type": "slide"
    }
   },
   "source": [
    "# Brian Gainger, Jupyter\n",
    "\n",
    "<div class=\"imgJupyter\" >\n",
    "    <img src=\"images/gainger.jpg\" />\n",
    "</div>\n",
    "<div class=\"imgJupyter\" >\n",
    "    <img src=\"images/jupyter.png/\" />\n",
    "</div>"
   ]
  },
  {
   "cell_type": "markdown",
   "metadata": {
    "slideshow": {
     "slide_type": "fragment"
    }
   },
   "source": [
    "<div class=\"jupytertext\">\n",
    "     <b>version 4.1</b> (Q4 2015)<br>\n",
    "     <ul>\n",
    "     <li>Multi-cell selections and actions</li>\n",
    "     <li>notebook-wide find and replace</li>\n",
    "     <li>atom-style palette</b></li>\n",
    "     </ul>\n",
    "</div>"
   ]
  },
  {
   "cell_type": "markdown",
   "metadata": {
    "slideshow": {
     "slide_type": "fragment"
    }
   },
   "source": [
    "<div class=\"jupytertext\">\n",
    "     <b>Jupyter Workbench</b> (Q2 2106)<br>\n",
    "     <ul>\n",
    "     <li>gui rewrite: loosely coupled npm modules</li>\n",
    "     <li>flexible layout mixing components</li>\n",
    "     <li>notebooks, text editors, outputs, widgets and visu</li>\n",
    "     <li>3rd party plug-ins</li>\n",
    "     <li>collaborative editing</li>\n",
    "     </ul>\n",
    "</div>"
   ]
  },
  {
   "cell_type": "markdown",
   "metadata": {
    "slideshow": {
     "slide_type": "slide"
    }
   },
   "source": [
    "# Juliet Hougland, Cloudera\n",
    "\n",
    "<div class=\"imgJupyter\" >\n",
    "    <img src=\"images/juliethougland.jpeg\" />\n",
    "</div>\n",
    "<div class=\"imgPyspark\" >\n",
    "    <img src=\"images/pyspark.png/\" />\n",
    "</div>"
   ]
  },
  {
   "cell_type": "markdown",
   "metadata": {
    "slideshow": {
     "slide_type": "fragment"
    }
   },
   "source": [
    "<div class=\"jupytertext\">\n",
    "     <b>Top Tips for running PySpark</b><br>\n",
    "     <ul>\n",
    "     <li>Apache Spark: fast and general engine for large-scale data processing</li>\n",
    "     <li>Pyspark: Python bindings for Apache Spark</li>\n",
    "     <li>Tips: use dataframes, limit data transfers between JVM and python processes</li>\n",
    "     <li>CloudPickle: serialize Python constructs not supported by the pickle module</li>\n",
    "     </ul>\n",
    "</div>"
   ]
  },
  {
   "cell_type": "markdown",
   "metadata": {
    "slideshow": {
     "slide_type": "fragment"
    }
   },
   "source": [
    "<div class=\"jupytertext\">\n",
    "     <b>Open Diversity Data</b><br>\n",
    "     <ul>\n",
    "     <li>http://opendiversitydata.org/</li>\n",
    "     <li>was not mentionned at the conference, but...</li>\n",
    "     <li>\"Companies already collect data about their employee demographics. Let's ask them to publish it.\"</li>\n",
    "     </ul>\n",
    "</div>"
   ]
  },
  {
   "cell_type": "markdown",
   "metadata": {
    "slideshow": {
     "slide_type": "slide"
    }
   },
   "source": [
    "# Wes McKinney, Cloudera\n",
    "\n",
    "<div class=\"imgJupyter\" >\n",
    "    <img src=\"images/wesmckinney.jpeg\" />\n",
    "</div>\n",
    "<div class=\"imgPandas\" >\n",
    "    <img src=\"images/pandasbook.jpg/\" />\n",
    "</div>\n",
    "<div class=\"imgPandas\" >\n",
    "    <img src=\"images/ibisoverview.png/\" />\n",
    "</div>"
   ]
  },
  {
   "cell_type": "markdown",
   "metadata": {
    "collapsed": true,
    "slideshow": {
     "slide_type": "fragment"
    }
   },
   "source": [
    "<div class=\"jupytertext\">\n",
    "     <b>After Pandas: Project Ibis</b><br>\n",
    "     <ul>\n",
    "     <li>uniform Python based interface similar to Pandas, for big data queries</li>\n",
    "     <li>New project is easier then working with Pandas technical debt</li>\n",
    "     <li>Current python solutions for Big Data suffer from moving data between db and python  </li>\n",
    "     <li>Ibis will have a shared memory architecture</li>\n",
    "     <li>first sqlite and impala drivers, next other dbs...</li>\n",
    "     </ul>\n",
    "</div>"
   ]
  },
  {
   "cell_type": "markdown",
   "metadata": {
    "collapsed": true,
    "slideshow": {
     "slide_type": "slide"
    }
   },
   "source": [
    "# Anthony Goldbloom, Kaggle\n",
    "\n",
    "<div class=\"imgJupyter\" >\n",
    "    <img src=\"images/anthonygoldbloom.jpg\" />\n",
    "</div>\n",
    "<div class=\"imgPandas\" >\n",
    "    <img src=\"images/kaggle.jpg/\" />\n",
    "</div>"
   ]
  },
  {
   "cell_type": "markdown",
   "metadata": {
    "slideshow": {
     "slide_type": "fragment"
    }
   },
   "source": [
    "<div class=\"jupytertext\">\n",
    "     <b>Observing 400,000 data scientists working on ML competitions</b><br>\n",
    "     <ul>\n",
    "     <li>structured datasets group focus on hand-crafting better features</li>\n",
    "     <li>unstructured datasets group instead build neural networks</li>\n",
    "     <li>Python is now the leading language, especially for neural networks</li>\n",
    "     <li>R ggplot library still has considerable popularity</li>\n",
    "     </ul>\n",
    "</div>"
   ]
  },
  {
   "cell_type": "markdown",
   "metadata": {
    "slideshow": {
     "slide_type": "fragment"
    }
   },
   "source": [
    "<div class=\"jupytertext\">\n",
    "     <b>new kaggle Scripts feature:</b><br>\n",
    "     <ul>\n",
    "     <li>upload your code and run it in a container</li>\n",
    "     <li>must have open source Apache 2 license, and shared) and run it in a container </li>\n",
    "     <li>open for anyone to use, fork, or run in a kaggle container with differnet inputs </li>\n",
    "     </ul>\n",
    "</div>"
   ]
  },
  {
   "cell_type": "markdown",
   "metadata": {
    "slideshow": {
     "slide_type": "slide"
    }
   },
   "source": [
    "## ... next time SD"
   ]
  },
  {
   "cell_type": "markdown",
   "metadata": {
    "slideshow": {
     "slide_type": "fragment"
    }
   },
   "source": [
    "<p>San Francisco 2015</p>\n",
    "<div class=\"imgContainer3\" >\n",
    "     <img src=\"images/sfbridge.jpg\" >\n",
    "</div>\n",
    "<div class=\"righttext\" >\n",
    "     <ul>\n",
    "     <li>60 organisers/volunteers</li>\n",
    "     <br>\n",
    "     <li>1000 participants</li>\n",
    "     <br>\n",
    "     <li><b>200 from San Diego !</b></li>\n",
    "     </ul>\n",
    "</div>"
   ]
  },
  {
   "cell_type": "markdown",
   "metadata": {
    "slideshow": {
     "slide_type": "fragment"
    }
   },
   "source": [
    "<p>San Diego 2016</p>\n",
    "<div class=\"imgContainer3\" >\n",
    "     <img src=\"images/sdbridge.jpg\" >\n",
    "</div>\n",
    "<div class=\"righttext\" >\n",
    "    <ul>\n",
    "    <br>\n",
    "    <br>\n",
    "    <br>\n",
    "    <b>ODSC SD 2016 ?</b>\n",
    "    <br>\n",
    "    <br>\n",
    "    another fun conference...<br>\n",
    "    <br>\n",
    "    </ul>\n",
    "</div>"
   ]
  },
  {
   "cell_type": "code",
   "execution_count": 1,
   "metadata": {
    "collapsed": false,
    "slideshow": {
     "slide_type": "skip"
    }
   },
   "outputs": [
    {
     "data": {
      "text/html": [
       "<style>\n",
       "\n",
       ".odscsubs{\n",
       "  margin-left:40px;\n",
       "  font-weight:bold;\n",
       "}\n",
       "\n",
       "div.warn {    \n",
       "  background-color: #fcf2f2;\n",
       "  border-color: #dFb5b4;\n",
       "  border-left: 5px solid #dfb5b4;\n",
       "  padding: 0.5em;\n",
       "}\n",
       "\n",
       ".imgODSC{\n",
       "  text-align:left;\n",
       "  margin-right:5px;\n",
       "}\n",
       "\n",
       ".imgJupyter, .imgPyspark, .imgPandas, .imgContainer0, .imgContainer1, .imgContainer2, .imgContainer3{\n",
       "  float:left;\n",
       "  margin-right:5px;\n",
       "}\n",
       ".jupytertext{\n",
       "  clear:left;\n",
       "  margin-right:5px;\n",
       "}\n",
       "\n",
       "\n",
       ".imgODSC > img{\n",
       "  height:142px;\n",
       "  width:600px;\n",
       "} \n",
       ".imgJupyter > img{\n",
       "  height:200px;\n",
       "  width:200px;\n",
       "}\n",
       ".imgPyspark > img{\n",
       "  height:100px;\n",
       "}\n",
       ".imgPandas > img{\n",
       "  height:200px;\n",
       "}\n",
       "\n",
       ".imgContainer0 > img{\n",
       "  height:300px;\n",
       "  width:400px;\n",
       "}\n",
       ".imgContainer1 > img{\n",
       "  height:300px;\n",
       "  width:800px;\n",
       "}\n",
       ".imgContainer2 > img{\n",
       "  height:350px;\n",
       "  width:400px;\n",
       "}\n",
       ".imgContainer3 > img{\n",
       "  height:200px;\n",
       "  width:400px;\n",
       "}\n",
       "\n",
       "p{\n",
       "  text-align:left;\n",
       "  font-weight:bold;\n",
       "}\n",
       "\n",
       " </style>"
      ],
      "text/plain": [
       "<IPython.core.display.HTML object>"
      ]
     },
     "execution_count": 1,
     "metadata": {},
     "output_type": "execute_result"
    }
   ],
   "source": [
    "from IPython.core.display import HTML\n",
    "def css_styling():\n",
    "    styles = open(\"./styles/custom.css\", \"r\").read()\n",
    "    return HTML(styles)\n",
    "css_styling()  "
   ]
  },
  {
   "cell_type": "markdown",
   "metadata": {
    "slideshow": {
     "slide_type": "skip"
    }
   },
   "source": [
    "<!--<div class=warn>\n",
    "**Warning:** remember to take my own pictures  \n",
    "<div/>-->"
   ]
  },
  {
   "cell_type": "code",
   "execution_count": 2,
   "metadata": {
    "collapsed": false,
    "slideshow": {
     "slide_type": "skip"
    }
   },
   "outputs": [],
   "source": [
    "# !jupyter nbconvert I_went_to_ODSC_WEST_2015.ipynb --to slides --post serve"
   ]
  },
  {
   "cell_type": "code",
   "execution_count": null,
   "metadata": {
    "collapsed": true
   },
   "outputs": [],
   "source": []
  }
 ],
 "metadata": {
  "celltoolbar": "Slideshow",
  "kernelspec": {
   "display_name": "Python 3",
   "language": "python",
   "name": "python3"
  },
  "language_info": {
   "codemirror_mode": {
    "name": "ipython",
    "version": 3
   },
   "file_extension": ".py",
   "mimetype": "text/x-python",
   "name": "python",
   "nbconvert_exporter": "python",
   "pygments_lexer": "ipython3",
   "version": "3.4.3"
  }
 },
 "nbformat": 4,
 "nbformat_minor": 0
}
